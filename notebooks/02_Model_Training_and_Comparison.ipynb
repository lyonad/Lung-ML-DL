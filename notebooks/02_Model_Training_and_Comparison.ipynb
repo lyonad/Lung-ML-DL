{
  "cells": [
    {
      "cell_type": "markdown",
      "metadata": {},
      "source": [
        "# ANN Model Training and Comparative Analysis\n",
        "## Deep Learning-Based Lung Cancer Risk Prediction\n",
        "\n",
        "**Research Title:** Deep Learning-Based Lung Cancer Risk Prediction: A Comparative Study of Artificial Neural Network Performance with Clinical Feature Analysis\n",
        "\n",
        "**Notebook Purpose:** This notebook trains and compares multiple ANN architectures:\n",
        "- Simple ANN (Baseline)\n",
        "- Deep ANN (Multiple layers)\n",
        "- Advanced ANN (with Dropout and Batch Normalization)\n",
        "- Regularized ANN (with L2 regularization)\n",
        "\n",
        "---\n"
      ]
    },
    {
      "cell_type": "code",
      "execution_count": null,
      "metadata": {},
      "outputs": [],
      "source": [
        "# Import required libraries\n",
        "import sys\n",
        "sys.path.append('../src')\n",
        "\n",
        "from main_training import LungCancerPredictionPipeline\n",
        "\n",
        "# Configuration\n",
        "DATA_PATH = '../data/survey lung cancer.csv'\n",
        "RESULTS_DIR = '../results'\n",
        "FIGURES_DIR = '../figures'\n",
        "EPOCHS = 100\n",
        "BATCH_SIZE = 32\n",
        "\n",
        "print(\"Libraries imported successfully!\")\n"
      ]
    },
    {
      "cell_type": "code",
      "execution_count": null,
      "metadata": {},
      "outputs": [],
      "source": [
        "# Initialize pipeline\n",
        "pipeline = LungCancerPredictionPipeline(\n",
        "    data_path=DATA_PATH,\n",
        "    results_dir=RESULTS_DIR,\n",
        "    figures_dir=FIGURES_DIR\n",
        ")\n"
      ]
    },
    {
      "cell_type": "code",
      "execution_count": null,
      "metadata": {},
      "outputs": [],
      "source": [
        "# Run complete pipeline\n",
        "# This will:\n",
        "# 1. Preprocess data\n",
        "# 2. Analyze features\n",
        "# 3. Build all models\n",
        "# 4. Train all models\n",
        "# 5. Evaluate all models\n",
        "# 6. Compare models\n",
        "# 7. Generate research report\n",
        "\n",
        "pipeline.run_complete_pipeline(epochs=EPOCHS, batch_size=BATCH_SIZE)\n"
      ]
    },
    {
      "cell_type": "markdown",
      "metadata": {},
      "source": [
        "## Results\n",
        "\n",
        "All model training results, evaluation metrics, and visualizations have been saved to:\n",
        "- **Results**: `../results/` directory\n",
        "- **Figures**: `../figures/` directory\n",
        "- **Models**: `../models/` directory\n",
        "\n",
        "Check the research report in `../results/research_report.txt` for comprehensive findings.\n"
      ]
    }
  ],
  "metadata": {
    "language_info": {
      "name": "python"
    }
  },
  "nbformat": 4,
  "nbformat_minor": 2
}
