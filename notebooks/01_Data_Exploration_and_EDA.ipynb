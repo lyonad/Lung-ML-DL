{
  "cells": [
    {
      "cell_type": "markdown",
      "metadata": {},
      "source": [
        "# Data Exploration and Exploratory Data Analysis (EDA)\n",
        "## Deep Learning-Based Lung Cancer Risk Prediction\n",
        "\n",
        "**Research Title:** Deep Learning-Based Lung Cancer Risk Prediction: A Comparative Study of Artificial Neural Network Performance with Clinical Feature Analysis\n",
        "\n",
        "**Notebook Purpose:** This notebook performs comprehensive exploratory data analysis on the lung cancer dataset, including:\n",
        "- Data loading and basic statistics\n",
        "- Missing value analysis\n",
        "- Feature distribution analysis\n",
        "- Correlation analysis\n",
        "- Statistical tests for feature significance\n",
        "\n",
        "---\n"
      ]
    },
    {
      "cell_type": "code",
      "execution_count": null,
      "metadata": {},
      "outputs": [],
      "source": [
        "# Import required libraries\n",
        "import sys\n",
        "sys.path.append('../src')\n",
        "\n",
        "import pandas as pd\n",
        "import numpy as np\n",
        "import matplotlib.pyplot as plt\n",
        "import seaborn as sns\n",
        "from scipy import stats\n",
        "import warnings\n",
        "warnings.filterwarnings('ignore')\n",
        "\n",
        "# Import custom modules\n",
        "from data_preprocessing import LungCancerDataPreprocessor\n",
        "from feature_analysis import FeatureAnalyzer, FeatureVisualizer\n",
        "\n",
        "# Set plotting style\n",
        "sns.set_style('whitegrid')\n",
        "plt.rcParams['figure.figsize'] = (12, 6)\n",
        "plt.rcParams['font.size'] = 10\n",
        "\n",
        "print(\"Libraries imported successfully!\")\n"
      ]
    },
    {
      "cell_type": "code",
      "execution_count": null,
      "metadata": {},
      "outputs": [],
      "source": [
        "# Initialize preprocessor and load data\n",
        "DATA_PATH = '../data/survey lung cancer.csv'\n",
        "preprocessor = LungCancerDataPreprocessor(DATA_PATH)\n",
        "df = preprocessor.load_data()\n",
        "\n",
        "# Display basic information\n",
        "print(f\"\\nDataset shape: {df.shape}\")\n",
        "print(f\"\\nFirst 5 rows:\")\n",
        "df.head()\n"
      ]
    },
    {
      "cell_type": "code",
      "execution_count": null,
      "metadata": {},
      "outputs": [],
      "source": [
        "# Comprehensive data exploration\n",
        "exploration_results = preprocessor.explore_data()\n"
      ]
    },
    {
      "cell_type": "code",
      "execution_count": null,
      "metadata": {},
      "outputs": [],
      "source": [
        "# Visualize target distribution\n",
        "target_counts = df['LUNG_CANCER'].value_counts()\n",
        "fig, axes = plt.subplots(1, 2, figsize=(14, 5))\n",
        "\n",
        "target_counts.plot(kind='bar', ax=axes[0], color=['#2ecc71', '#e74c3c'])\n",
        "axes[0].set_title('Lung Cancer Distribution', fontsize=14, fontweight='bold')\n",
        "axes[0].set_xlabel('Lung Cancer Status')\n",
        "axes[0].set_ylabel('Count')\n",
        "axes[0].tick_params(axis='x', rotation=0)\n",
        "\n",
        "axes[1].pie(target_counts, labels=target_counts.index, autopct='%1.1f%%',\n",
        "           colors=['#2ecc71', '#e74c3c'], startangle=90)\n",
        "axes[1].set_title('Lung Cancer Distribution')\n",
        "\n",
        "plt.tight_layout()\n",
        "plt.savefig('../figures/target_distribution.png', dpi=300, bbox_inches='tight')\n",
        "plt.show()\n"
      ]
    },
    {
      "cell_type": "code",
      "execution_count": null,
      "metadata": {},
      "outputs": [],
      "source": [
        "# Feature analysis\n",
        "X, y = preprocessor.get_full_dataset()\n",
        "feature_names = preprocessor.get_feature_names()\n",
        "\n",
        "analyzer = FeatureAnalyzer(X, y, feature_names)\n",
        "rf_importance = analyzer.calculate_feature_importance_rf()\n",
        "comprehensive_importance = analyzer.get_comprehensive_importance()\n",
        "\n",
        "print(\"\\nTop 10 Most Important Features:\")\n",
        "print(comprehensive_importance[['Feature', 'Average_Importance']].head(10))\n",
        "\n",
        "# Visualize\n",
        "FeatureVisualizer.plot_feature_importance(\n",
        "    rf_importance,\n",
        "    title=\"Feature Importance Analysis\",\n",
        "    save_path='../figures/feature_importance_eda.png'\n",
        ")\n"
      ]
    },
    {
      "cell_type": "code",
      "execution_count": null,
      "metadata": {},
      "outputs": [],
      "source": [
        "# Correlation analysis\n",
        "df_corr = df.copy()\n",
        "df_corr['GENDER'] = df_corr['GENDER'].map({'M': 1, 'F': 0})\n",
        "df_corr['LUNG_CANCER'] = df_corr['LUNG_CANCER'].map({'YES': 1, 'NO': 0})\n",
        "\n",
        "FeatureVisualizer.plot_correlation_matrix(df_corr, save_path='../figures/correlation_matrix.png')\n"
      ]
    },
    {
      "cell_type": "markdown",
      "metadata": {},
      "source": [
        "## Summary\n",
        "\n",
        "This exploratory analysis has revealed:\n",
        "1. Complete dataset with no missing values\n",
        "2. Strong predictive features identified\n",
        "3. Significant correlations between clinical symptoms and cancer diagnosis\n",
        "4. Dataset ready for deep learning model development\n",
        "\n",
        "Next step: Proceed to model training and comparison in notebook 02.\n"
      ]
    }
  ],
  "metadata": {
    "language_info": {
      "name": "python"
    }
  },
  "nbformat": 4,
  "nbformat_minor": 2
}
